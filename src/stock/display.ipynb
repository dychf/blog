{
 "cells": [
  {
   "cell_type": "code",
   "execution_count": 11,
   "metadata": {},
   "outputs": [
    {
     "data": {
      "text/html": [
       "<div>\n",
       "<style scoped>\n",
       "    .dataframe tbody tr th:only-of-type {\n",
       "        vertical-align: middle;\n",
       "    }\n",
       "\n",
       "    .dataframe tbody tr th {\n",
       "        vertical-align: top;\n",
       "    }\n",
       "\n",
       "    .dataframe thead th {\n",
       "        text-align: right;\n",
       "    }\n",
       "</style>\n",
       "<table border=\"1\" class=\"dataframe\">\n",
       "  <thead>\n",
       "    <tr style=\"text-align: right;\">\n",
       "      <th></th>\n",
       "      <th>名称</th>\n",
       "      <th>总股本</th>\n",
       "      <th>利润</th>\n",
       "      <th>增长率</th>\n",
       "      <th>给定PE</th>\n",
       "      <th>三年后利润</th>\n",
       "      <th>当前市值</th>\n",
       "      <th>三年后估值</th>\n",
       "      <th>理想买入点</th>\n",
       "      <th>理想卖出点</th>\n",
       "    </tr>\n",
       "  </thead>\n",
       "  <tbody>\n",
       "    <tr>\n",
       "      <th>0</th>\n",
       "      <td>海康威视</td>\n",
       "      <td>93.64</td>\n",
       "      <td>148.99</td>\n",
       "      <td>16.97</td>\n",
       "      <td>25.0</td>\n",
       "      <td>238.44</td>\n",
       "      <td>3736.21 (39.9)</td>\n",
       "      <td>5961.0 (63.66)</td>\n",
       "      <td>2980.5 (31.83)</td>\n",
       "      <td>7449.5 (79.55)</td>\n",
       "    </tr>\n",
       "  </tbody>\n",
       "</table>\n",
       "</div>"
      ],
      "text/plain": [
       "     名称    总股本      利润    增长率  给定PE   三年后利润            当前市值           三年后估值  \\\n",
       "0  海康威视  93.64  148.99  16.97  25.0  238.44  3736.21 (39.9)  5961.0 (63.66)   \n",
       "\n",
       "            理想买入点           理想卖出点  \n",
       "0  2980.5 (31.83)  7449.5 (79.55)  "
      ]
     },
     "execution_count": 11,
     "metadata": {},
     "output_type": "execute_result"
    }
   ],
   "source": [
    "from core import valuation\n",
    "\n",
    "valuation('002415', riskfree_rate=4)"
   ]
  },
  {
   "cell_type": "code",
   "execution_count": 12,
   "metadata": {},
   "outputs": [
    {
     "data": {
      "text/html": [
       "<div>\n",
       "<style scoped>\n",
       "    .dataframe tbody tr th:only-of-type {\n",
       "        vertical-align: middle;\n",
       "    }\n",
       "\n",
       "    .dataframe tbody tr th {\n",
       "        vertical-align: top;\n",
       "    }\n",
       "\n",
       "    .dataframe thead th {\n",
       "        text-align: right;\n",
       "    }\n",
       "</style>\n",
       "<table border=\"1\" class=\"dataframe\">\n",
       "  <thead>\n",
       "    <tr style=\"text-align: right;\">\n",
       "      <th></th>\n",
       "      <th>名称</th>\n",
       "      <th>总股本</th>\n",
       "      <th>利润</th>\n",
       "      <th>增长率</th>\n",
       "      <th>给定PE</th>\n",
       "      <th>三年后利润</th>\n",
       "      <th>当前市值</th>\n",
       "      <th>三年后估值</th>\n",
       "      <th>理想买入点</th>\n",
       "      <th>理想卖出点</th>\n",
       "    </tr>\n",
       "  </thead>\n",
       "  <tbody>\n",
       "    <tr>\n",
       "      <th>0</th>\n",
       "      <td>美的集团</td>\n",
       "      <td>69.97</td>\n",
       "      <td>272.96</td>\n",
       "      <td>10.15</td>\n",
       "      <td>16.67</td>\n",
       "      <td>364.8</td>\n",
       "      <td>3766.63 (53.83)</td>\n",
       "      <td>6080.0 (86.89)</td>\n",
       "      <td>3040.0 (43.45)</td>\n",
       "      <td>9120.0 (130.34)</td>\n",
       "    </tr>\n",
       "  </tbody>\n",
       "</table>\n",
       "</div>"
      ],
      "text/plain": [
       "     名称    总股本      利润    增长率   给定PE  三年后利润             当前市值           三年后估值  \\\n",
       "0  美的集团  69.97  272.96  10.15  16.67  364.8  3766.63 (53.83)  6080.0 (86.89)   \n",
       "\n",
       "            理想买入点            理想卖出点  \n",
       "0  3040.0 (43.45)  9120.0 (130.34)  "
      ]
     },
     "execution_count": 12,
     "metadata": {},
     "output_type": "execute_result"
    }
   ],
   "source": [
    "valuation('000333', riskfree_rate=6)"
   ]
  },
  {
   "cell_type": "code",
   "execution_count": 13,
   "metadata": {},
   "outputs": [
    {
     "data": {
      "text/html": [
       "<div>\n",
       "<style scoped>\n",
       "    .dataframe tbody tr th:only-of-type {\n",
       "        vertical-align: middle;\n",
       "    }\n",
       "\n",
       "    .dataframe tbody tr th {\n",
       "        vertical-align: top;\n",
       "    }\n",
       "\n",
       "    .dataframe thead th {\n",
       "        text-align: right;\n",
       "    }\n",
       "</style>\n",
       "<table border=\"1\" class=\"dataframe\">\n",
       "  <thead>\n",
       "    <tr style=\"text-align: right;\">\n",
       "      <th></th>\n",
       "      <th>名称</th>\n",
       "      <th>总股本</th>\n",
       "      <th>利润</th>\n",
       "      <th>增长率</th>\n",
       "      <th>给定PE</th>\n",
       "      <th>三年后利润</th>\n",
       "      <th>当前市值</th>\n",
       "      <th>三年后估值</th>\n",
       "      <th>理想买入点</th>\n",
       "      <th>理想卖出点</th>\n",
       "    </tr>\n",
       "  </thead>\n",
       "  <tbody>\n",
       "    <tr>\n",
       "      <th>0</th>\n",
       "      <td>格力电器</td>\n",
       "      <td>56.31</td>\n",
       "      <td>231.24</td>\n",
       "      <td>-2.21</td>\n",
       "      <td>16.67</td>\n",
       "      <td>216.25</td>\n",
       "      <td>2078.55 (36.91)</td>\n",
       "      <td>3604.17 (64.01)</td>\n",
       "      <td>1802.08 (32.0)</td>\n",
       "      <td>5406.26 (96.01)</td>\n",
       "    </tr>\n",
       "  </tbody>\n",
       "</table>\n",
       "</div>"
      ],
      "text/plain": [
       "     名称    总股本      利润   增长率   给定PE   三年后利润             当前市值            三年后估值  \\\n",
       "0  格力电器  56.31  231.24 -2.21  16.67  216.25  2078.55 (36.91)  3604.17 (64.01)   \n",
       "\n",
       "            理想买入点            理想卖出点  \n",
       "0  1802.08 (32.0)  5406.26 (96.01)  "
      ]
     },
     "execution_count": 13,
     "metadata": {},
     "output_type": "execute_result"
    }
   ],
   "source": [
    "valuation('000651', riskfree_rate=6)"
   ]
  },
  {
   "cell_type": "code",
   "execution_count": 14,
   "metadata": {},
   "outputs": [
    {
     "data": {
      "text/html": [
       "<div>\n",
       "<style scoped>\n",
       "    .dataframe tbody tr th:only-of-type {\n",
       "        vertical-align: middle;\n",
       "    }\n",
       "\n",
       "    .dataframe tbody tr th {\n",
       "        vertical-align: top;\n",
       "    }\n",
       "\n",
       "    .dataframe thead th {\n",
       "        text-align: right;\n",
       "    }\n",
       "</style>\n",
       "<table border=\"1\" class=\"dataframe\">\n",
       "  <thead>\n",
       "    <tr style=\"text-align: right;\">\n",
       "      <th></th>\n",
       "      <th>名称</th>\n",
       "      <th>总股本</th>\n",
       "      <th>利润</th>\n",
       "      <th>增长率</th>\n",
       "      <th>给定PE</th>\n",
       "      <th>三年后利润</th>\n",
       "      <th>当前市值</th>\n",
       "      <th>三年后估值</th>\n",
       "      <th>理想买入点</th>\n",
       "      <th>理想卖出点</th>\n",
       "    </tr>\n",
       "  </thead>\n",
       "  <tbody>\n",
       "    <tr>\n",
       "      <th>0</th>\n",
       "      <td>贵州茅台</td>\n",
       "      <td>12.56</td>\n",
       "      <td>484.8</td>\n",
       "      <td>13.58</td>\n",
       "      <td>33.33</td>\n",
       "      <td>710.34</td>\n",
       "      <td>22701.25 (1807.42)</td>\n",
       "      <td>23678.0 (1885.19)</td>\n",
       "      <td>11839.0 (942.6)</td>\n",
       "      <td>24240.0 (1929.94)</td>\n",
       "    </tr>\n",
       "  </tbody>\n",
       "</table>\n",
       "</div>"
      ],
      "text/plain": [
       "     名称    总股本     利润    增长率   给定PE   三年后利润                当前市值  \\\n",
       "0  贵州茅台  12.56  484.8  13.58  33.33  710.34  22701.25 (1807.42)   \n",
       "\n",
       "               三年后估值            理想买入点              理想卖出点  \n",
       "0  23678.0 (1885.19)  11839.0 (942.6)  24240.0 (1929.94)  "
      ]
     },
     "execution_count": 14,
     "metadata": {},
     "output_type": "execute_result"
    }
   ],
   "source": [
    "valuation('600519', riskfree_rate=3)"
   ]
  },
  {
   "cell_type": "code",
   "execution_count": 15,
   "metadata": {},
   "outputs": [
    {
     "data": {
      "text/html": [
       "<div>\n",
       "<style scoped>\n",
       "    .dataframe tbody tr th:only-of-type {\n",
       "        vertical-align: middle;\n",
       "    }\n",
       "\n",
       "    .dataframe tbody tr th {\n",
       "        vertical-align: top;\n",
       "    }\n",
       "\n",
       "    .dataframe thead th {\n",
       "        text-align: right;\n",
       "    }\n",
       "</style>\n",
       "<table border=\"1\" class=\"dataframe\">\n",
       "  <thead>\n",
       "    <tr style=\"text-align: right;\">\n",
       "      <th></th>\n",
       "      <th>名称</th>\n",
       "      <th>总股本</th>\n",
       "      <th>利润</th>\n",
       "      <th>增长率</th>\n",
       "      <th>给定PE</th>\n",
       "      <th>三年后利润</th>\n",
       "      <th>当前市值</th>\n",
       "      <th>三年后估值</th>\n",
       "      <th>理想买入点</th>\n",
       "      <th>理想卖出点</th>\n",
       "    </tr>\n",
       "  </thead>\n",
       "  <tbody>\n",
       "    <tr>\n",
       "      <th>0</th>\n",
       "      <td>同仁堂</td>\n",
       "      <td>13.71</td>\n",
       "      <td>11.2</td>\n",
       "      <td>8.28</td>\n",
       "      <td>33.33</td>\n",
       "      <td>14.22</td>\n",
       "      <td>699.18 (51.0)</td>\n",
       "      <td>474.0 (34.57)</td>\n",
       "      <td>237.0 (17.29)</td>\n",
       "      <td>560.0 (40.85)</td>\n",
       "    </tr>\n",
       "  </tbody>\n",
       "</table>\n",
       "</div>"
      ],
      "text/plain": [
       "    名称    总股本    利润   增长率   给定PE  三年后利润           当前市值          三年后估值  \\\n",
       "0  同仁堂  13.71  11.2  8.28  33.33  14.22  699.18 (51.0)  474.0 (34.57)   \n",
       "\n",
       "           理想买入点          理想卖出点  \n",
       "0  237.0 (17.29)  560.0 (40.85)  "
      ]
     },
     "execution_count": 15,
     "metadata": {},
     "output_type": "execute_result"
    }
   ],
   "source": [
    "valuation('600085', riskfree_rate=3)"
   ]
  },
  {
   "cell_type": "code",
   "execution_count": 16,
   "metadata": {},
   "outputs": [
    {
     "data": {
      "text/html": [
       "<div>\n",
       "<style scoped>\n",
       "    .dataframe tbody tr th:only-of-type {\n",
       "        vertical-align: middle;\n",
       "    }\n",
       "\n",
       "    .dataframe tbody tr th {\n",
       "        vertical-align: top;\n",
       "    }\n",
       "\n",
       "    .dataframe thead th {\n",
       "        text-align: right;\n",
       "    }\n",
       "</style>\n",
       "<table border=\"1\" class=\"dataframe\">\n",
       "  <thead>\n",
       "    <tr style=\"text-align: right;\">\n",
       "      <th></th>\n",
       "      <th>名称</th>\n",
       "      <th>总股本</th>\n",
       "      <th>利润</th>\n",
       "      <th>增长率</th>\n",
       "      <th>给定PE</th>\n",
       "      <th>三年后利润</th>\n",
       "      <th>当前市值</th>\n",
       "      <th>三年后估值</th>\n",
       "      <th>理想买入点</th>\n",
       "      <th>理想卖出点</th>\n",
       "    </tr>\n",
       "  </thead>\n",
       "  <tbody>\n",
       "    <tr>\n",
       "      <th>0</th>\n",
       "      <td>片仔癀</td>\n",
       "      <td>6.03</td>\n",
       "      <td>19.92</td>\n",
       "      <td>33.24</td>\n",
       "      <td>33.33</td>\n",
       "      <td>47.12</td>\n",
       "      <td>1872.94 (310.6)</td>\n",
       "      <td>1570.67 (260.48)</td>\n",
       "      <td>785.34 (130.24)</td>\n",
       "      <td>996.0 (165.17)</td>\n",
       "    </tr>\n",
       "  </tbody>\n",
       "</table>\n",
       "</div>"
      ],
      "text/plain": [
       "    名称   总股本     利润    增长率   给定PE  三年后利润             当前市值             三年后估值  \\\n",
       "0  片仔癀  6.03  19.92  33.24  33.33  47.12  1872.94 (310.6)  1570.67 (260.48)   \n",
       "\n",
       "             理想买入点           理想卖出点  \n",
       "0  785.34 (130.24)  996.0 (165.17)  "
      ]
     },
     "execution_count": 16,
     "metadata": {},
     "output_type": "execute_result"
    }
   ],
   "source": [
    "valuation('600436', riskfree_rate=3)"
   ]
  },
  {
   "cell_type": "code",
   "execution_count": 17,
   "metadata": {},
   "outputs": [
    {
     "data": {
      "text/html": [
       "<div>\n",
       "<style scoped>\n",
       "    .dataframe tbody tr th:only-of-type {\n",
       "        vertical-align: middle;\n",
       "    }\n",
       "\n",
       "    .dataframe tbody tr th {\n",
       "        vertical-align: top;\n",
       "    }\n",
       "\n",
       "    .dataframe thead th {\n",
       "        text-align: right;\n",
       "    }\n",
       "</style>\n",
       "<table border=\"1\" class=\"dataframe\">\n",
       "  <thead>\n",
       "    <tr style=\"text-align: right;\">\n",
       "      <th></th>\n",
       "      <th>名称</th>\n",
       "      <th>总股本</th>\n",
       "      <th>利润</th>\n",
       "      <th>增长率</th>\n",
       "      <th>给定PE</th>\n",
       "      <th>三年后利润</th>\n",
       "      <th>当前市值</th>\n",
       "      <th>三年后估值</th>\n",
       "      <th>理想买入点</th>\n",
       "      <th>理想卖出点</th>\n",
       "    </tr>\n",
       "  </thead>\n",
       "  <tbody>\n",
       "    <tr>\n",
       "      <th>0</th>\n",
       "      <td>江中药业</td>\n",
       "      <td>6.3</td>\n",
       "      <td>4.88</td>\n",
       "      <td>3.77</td>\n",
       "      <td>33.33</td>\n",
       "      <td>5.45</td>\n",
       "      <td>106.58 (16.92)</td>\n",
       "      <td>181.67 (28.84)</td>\n",
       "      <td>90.84 (14.42)</td>\n",
       "      <td>244.0 (38.73)</td>\n",
       "    </tr>\n",
       "  </tbody>\n",
       "</table>\n",
       "</div>"
      ],
      "text/plain": [
       "     名称  总股本    利润   增长率   给定PE  三年后利润            当前市值           三年后估值  \\\n",
       "0  江中药业  6.3  4.88  3.77  33.33   5.45  106.58 (16.92)  181.67 (28.84)   \n",
       "\n",
       "           理想买入点          理想卖出点  \n",
       "0  90.84 (14.42)  244.0 (38.73)  "
      ]
     },
     "execution_count": 17,
     "metadata": {},
     "output_type": "execute_result"
    }
   ],
   "source": [
    "valuation('600750', riskfree_rate=3)"
   ]
  },
  {
   "cell_type": "code",
   "execution_count": 18,
   "metadata": {},
   "outputs": [
    {
     "data": {
      "text/html": [
       "<div>\n",
       "<style scoped>\n",
       "    .dataframe tbody tr th:only-of-type {\n",
       "        vertical-align: middle;\n",
       "    }\n",
       "\n",
       "    .dataframe tbody tr th {\n",
       "        vertical-align: top;\n",
       "    }\n",
       "\n",
       "    .dataframe thead th {\n",
       "        text-align: right;\n",
       "    }\n",
       "</style>\n",
       "<table border=\"1\" class=\"dataframe\">\n",
       "  <thead>\n",
       "    <tr style=\"text-align: right;\">\n",
       "      <th></th>\n",
       "      <th>名称</th>\n",
       "      <th>总股本</th>\n",
       "      <th>利润</th>\n",
       "      <th>增长率</th>\n",
       "      <th>给定PE</th>\n",
       "      <th>三年后利润</th>\n",
       "      <th>当前市值</th>\n",
       "      <th>三年后估值</th>\n",
       "      <th>理想买入点</th>\n",
       "      <th>理想卖出点</th>\n",
       "    </tr>\n",
       "  </thead>\n",
       "  <tbody>\n",
       "    <tr>\n",
       "      <th>0</th>\n",
       "      <td>妙可蓝多</td>\n",
       "      <td>5.16</td>\n",
       "      <td>0.98</td>\n",
       "      <td>158.22</td>\n",
       "      <td>25.0</td>\n",
       "      <td>16.87</td>\n",
       "      <td>177.66 (34.43)</td>\n",
       "      <td>421.75 (81.73)</td>\n",
       "      <td>210.88 (40.87)</td>\n",
       "      <td>49.0 (9.5)</td>\n",
       "    </tr>\n",
       "  </tbody>\n",
       "</table>\n",
       "</div>"
      ],
      "text/plain": [
       "     名称   总股本    利润     增长率  给定PE  三年后利润            当前市值           三年后估值  \\\n",
       "0  妙可蓝多  5.16  0.98  158.22  25.0  16.87  177.66 (34.43)  421.75 (81.73)   \n",
       "\n",
       "            理想买入点       理想卖出点  \n",
       "0  210.88 (40.87)  49.0 (9.5)  "
      ]
     },
     "execution_count": 18,
     "metadata": {},
     "output_type": "execute_result"
    }
   ],
   "source": [
    "valuation('600882', riskfree_rate=4)"
   ]
  },
  {
   "cell_type": "code",
   "execution_count": 19,
   "metadata": {},
   "outputs": [
    {
     "data": {
      "text/html": [
       "<div>\n",
       "<style scoped>\n",
       "    .dataframe tbody tr th:only-of-type {\n",
       "        vertical-align: middle;\n",
       "    }\n",
       "\n",
       "    .dataframe tbody tr th {\n",
       "        vertical-align: top;\n",
       "    }\n",
       "\n",
       "    .dataframe thead th {\n",
       "        text-align: right;\n",
       "    }\n",
       "</style>\n",
       "<table border=\"1\" class=\"dataframe\">\n",
       "  <thead>\n",
       "    <tr style=\"text-align: right;\">\n",
       "      <th></th>\n",
       "      <th>名称</th>\n",
       "      <th>总股本</th>\n",
       "      <th>利润</th>\n",
       "      <th>增长率</th>\n",
       "      <th>给定PE</th>\n",
       "      <th>三年后利润</th>\n",
       "      <th>当前市值</th>\n",
       "      <th>三年后估值</th>\n",
       "      <th>理想买入点</th>\n",
       "      <th>理想卖出点</th>\n",
       "    </tr>\n",
       "  </thead>\n",
       "  <tbody>\n",
       "    <tr>\n",
       "      <th>0</th>\n",
       "      <td>晶盛机电</td>\n",
       "      <td>13.09</td>\n",
       "      <td>12.41</td>\n",
       "      <td>62.06</td>\n",
       "      <td>25.0</td>\n",
       "      <td>52.82</td>\n",
       "      <td>887.57 (67.81)</td>\n",
       "      <td>1320.5 (100.88)</td>\n",
       "      <td>660.25 (50.44)</td>\n",
       "      <td>620.5 (47.4)</td>\n",
       "    </tr>\n",
       "  </tbody>\n",
       "</table>\n",
       "</div>"
      ],
      "text/plain": [
       "     名称    总股本     利润    增长率  给定PE  三年后利润            当前市值            三年后估值  \\\n",
       "0  晶盛机电  13.09  12.41  62.06  25.0  52.82  887.57 (67.81)  1320.5 (100.88)   \n",
       "\n",
       "            理想买入点         理想卖出点  \n",
       "0  660.25 (50.44)  620.5 (47.4)  "
      ]
     },
     "execution_count": 19,
     "metadata": {},
     "output_type": "execute_result"
    }
   ],
   "source": [
    "valuation('300316', riskfree_rate=4)"
   ]
  }
 ],
 "metadata": {
  "kernelspec": {
   "display_name": "p37",
   "language": "python",
   "name": "python3"
  },
  "language_info": {
   "codemirror_mode": {
    "name": "ipython",
    "version": 3
   },
   "file_extension": ".py",
   "mimetype": "text/x-python",
   "name": "python",
   "nbconvert_exporter": "python",
   "pygments_lexer": "ipython3",
   "version": "3.7.13"
  },
  "orig_nbformat": 4
 },
 "nbformat": 4,
 "nbformat_minor": 2
}
